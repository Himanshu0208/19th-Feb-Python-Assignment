{
 "cells": [
  {
   "cell_type": "markdown",
   "id": "72167a25-2c03-457d-b7e5-d1c1dd36b840",
   "metadata": {},
   "source": [
    "# __Ques 1__\n",
    "__Flask__ is a micro web framework in Python that provides a simple and flexible way to build web applications. It is used for web development and allows developers to build and deploy web applications quickly and easily. It is not used for data visualization, machine learning, or gaming development.<br>\n",
    "<br>__Advantages of flask:__\n",
    "1. It has a simpler and more straightforward design compared to full-stack frameworks like Django.\n",
    "2. it is very Light weight\n",
    "3. there are a lot of example and documentation for flask\n",
    "4. It is very flexible and scalable"
   ]
  },
  {
   "cell_type": "markdown",
   "id": "15f6e2dd-12e2-4fa8-a474-720a7ed9fe3d",
   "metadata": {
    "tags": []
   },
   "source": [
    "# __Ques 2__\n",
    "<img src='a.png' alt='Answer2 screenshot'>"
   ]
  },
  {
   "cell_type": "markdown",
   "id": "c4e45791-69a6-4f38-996b-77754c23c446",
   "metadata": {},
   "source": [
    "# __Ques 3__\n",
    "App routing in Flask refers to the process of defining the URL patterns and their corresponding view functions in a Flask application. It allows the application to handle HTTP requests and map them to specific functions that generate a response to the client.<br>\n",
    "In Flask, app routes are defined using the @app.route decorator, which is used to bind a URL pattern to a view function. The decorator takes a URL pattern as its argument and associates it with the function decorated by it. When a client requests a URL that matches the pattern, Flask calls the associated function to generate a response.<br>\n",
    "By app routing we bind the correct path to teh client so that if client visit that path than he/she can see the data. "
   ]
  },
  {
   "cell_type": "markdown",
   "id": "99b18fe2-c4f5-430f-91a0-da3ed9cd1bc7",
   "metadata": {},
   "source": [
    "# __Ques 4__"
   ]
  },
  {
   "cell_type": "code",
   "execution_count": 2,
   "id": "7280e739-83e1-4fb4-8082-f059435dfe82",
   "metadata": {},
   "outputs": [
    {
     "name": "stdout",
     "output_type": "stream",
     "text": [
      "Collecting flask\n",
      "  Downloading Flask-2.2.3-py3-none-any.whl (101 kB)\n",
      "\u001b[2K     \u001b[90m━━━━━━━━━━━━━━━━━━━━━━━━━━━━━━━━━━━━━━━\u001b[0m \u001b[32m101.8/101.8 kB\u001b[0m \u001b[31m2.2 MB/s\u001b[0m eta \u001b[36m0:00:00\u001b[0ma \u001b[36m0:00:01\u001b[0m\n",
      "\u001b[?25hRequirement already satisfied: click>=8.0 in /opt/conda/lib/python3.10/site-packages (from flask) (8.1.3)\n",
      "Collecting Werkzeug>=2.2.2\n",
      "  Downloading Werkzeug-2.2.3-py3-none-any.whl (233 kB)\n",
      "\u001b[2K     \u001b[90m━━━━━━━━━━━━━━━━━━━━━━━━━━━━━━━━━━━━━━━\u001b[0m \u001b[32m233.6/233.6 kB\u001b[0m \u001b[31m7.9 MB/s\u001b[0m eta \u001b[36m0:00:00\u001b[0m\n",
      "\u001b[?25hCollecting itsdangerous>=2.0\n",
      "  Downloading itsdangerous-2.1.2-py3-none-any.whl (15 kB)\n",
      "Requirement already satisfied: Jinja2>=3.0 in /opt/conda/lib/python3.10/site-packages (from flask) (3.1.2)\n",
      "Requirement already satisfied: MarkupSafe>=2.0 in /opt/conda/lib/python3.10/site-packages (from Jinja2>=3.0->flask) (2.1.1)\n",
      "Installing collected packages: Werkzeug, itsdangerous, flask\n",
      "Successfully installed Werkzeug-2.2.3 flask-2.2.3 itsdangerous-2.1.2\n",
      "Note: you may need to restart the kernel to use updated packages.\n"
     ]
    }
   ],
   "source": [
    "pip install flask"
   ]
  },
  {
   "cell_type": "code",
   "execution_count": 1,
   "id": "14c8d78a-8a65-4264-bd9e-1de4237158bf",
   "metadata": {},
   "outputs": [
    {
     "name": "stdout",
     "output_type": "stream",
     "text": [
      " * Serving Flask app '__main__'\n",
      " * Debug mode: off\n"
     ]
    },
    {
     "name": "stderr",
     "output_type": "stream",
     "text": [
      "WARNING: This is a development server. Do not use it in a production deployment. Use a production WSGI server instead.\n",
      " * Running on all addresses (0.0.0.0)\n",
      " * Running on http://127.0.0.1:5000\n",
      " * Running on http://172.18.0.10:5000\n",
      "Press CTRL+C to quit\n",
      "172.18.0.2 - - [19/Feb/2023 17:09:00] \"GET / HTTP/1.1\" 200 -\n",
      "172.18.0.2 - - [19/Feb/2023 17:09:00] \"GET /favicon.ico HTTP/1.1\" 404 -\n",
      "172.18.0.2 - - [19/Feb/2023 17:09:35] \"GET /welcome HTTP/1.1\" 200 -\n",
      "172.18.0.2 - - [19/Feb/2023 17:12:07] \"GET / HTTP/1.1\" 200 -\n"
     ]
    }
   ],
   "source": [
    "from flask import Flask\n",
    "app = Flask(__name__)\n",
    "\n",
    "@app.route(\"/welcome\")\n",
    "def welcome():\n",
    "    return \"<h1>Welcome to ABC Corporation</h1>\"\n",
    "\n",
    "@app.route(\"/\")\n",
    "def main():\n",
    "    return \"\"\"<h1>Company Name: ABC Corporation<br>\n",
    "            Location: India<br>\n",
    "            Contact Detail: 999-999-9999<br>\n",
    "            </h1>\"\"\"\n",
    "if __name__ == \"__main__\":\n",
    "    app.run(host=\"0.0.0.0\")"
   ]
  },
  {
   "cell_type": "markdown",
   "id": "f6cfaf21-322b-425b-9cb1-9335c595b7f9",
   "metadata": {},
   "source": [
    "<img src='b.png' alt='Answer3 \"/\"  screenshot'>\n",
    "<img src='c.png' alt='Answer3 \"/welcome\" screenshot'>"
   ]
  },
  {
   "cell_type": "markdown",
   "id": "6f0e958d-54fc-4ee6-ba50-f7fed6293031",
   "metadata": {},
   "source": [
    "# __Ques 5__\n",
    "In Flask, the __url_for()__ function is used for URL building.\n",
    "<br>It gives the url for for a particular function in the code"
   ]
  },
  {
   "cell_type": "code",
   "execution_count": 1,
   "id": "d442fd63-229d-4b85-b676-4a4cbf399480",
   "metadata": {},
   "outputs": [
    {
     "name": "stdout",
     "output_type": "stream",
     "text": [
      "/\n",
      "/user/Himanshu\n"
     ]
    }
   ],
   "source": [
    "from flask import Flask, url_for\n",
    "\n",
    "app = Flask(__name__)\n",
    "\n",
    "@app.route('/')\n",
    "def index():\n",
    "    return 'Hello, World!'\n",
    "\n",
    "@app.route('/user/<username>')\n",
    "def userProfile(username):\n",
    "    return 'User profile page for %s' % username\n",
    "\n",
    "with app.test_request_context():\n",
    "    print(url_for('index'))  # Output: '/'\n",
    "    print(url_for('userProfile', username='Himanshu'))  # Output: '/user/Himanshu'\n"
   ]
  }
 ],
 "metadata": {
  "kernelspec": {
   "display_name": "Python 3 (ipykernel)",
   "language": "python",
   "name": "python3"
  },
  "language_info": {
   "codemirror_mode": {
    "name": "ipython",
    "version": 3
   },
   "file_extension": ".py",
   "mimetype": "text/x-python",
   "name": "python",
   "nbconvert_exporter": "python",
   "pygments_lexer": "ipython3",
   "version": "3.10.8"
  }
 },
 "nbformat": 4,
 "nbformat_minor": 5
}
